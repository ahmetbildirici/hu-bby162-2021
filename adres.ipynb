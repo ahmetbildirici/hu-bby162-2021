{
  "nbformat": 4,
  "nbformat_minor": 0,
  "metadata": {
    "colab": {
      "name": "adres.ipynb",
      "provenance": [],
      "collapsed_sections": [],
      "mount_file_id": "1eaMm5D4lugqLgvXC9A7UoWpc2YzhEmCe",
      "authorship_tag": "ABX9TyPn/iPv5BKcXf802b7WQ4PQ",
      "include_colab_link": true
    },
    "kernelspec": {
      "name": "python3",
      "display_name": "Python 3"
    },
    "language_info": {
      "name": "python"
    }
  },
  "cells": [
    {
      "cell_type": "markdown",
      "metadata": {
        "id": "view-in-github",
        "colab_type": "text"
      },
      "source": [
        "<a href=\"https://colab.research.google.com/github/ahmetbildirici/hu-bby162-2021/blob/main/adres.ipynb\" target=\"_parent\"><img src=\"https://colab.research.google.com/assets/colab-badge.svg\" alt=\"Open In Colab\"/></a>"
      ]
    },
    {
      "cell_type": "code",
      "metadata": {
        "id": "Nbj4y1-CWhvh"
      },
      "source": [
        "adresDosyasi = \"/content/drive/MyDrive/adres.txt\"\n",
        "f = open(adresDosyasi, 'w')\n",
        "f.write(\"AD SOYAD: E-POSTA\")\n",
        "f.close()"
      ],
      "execution_count": 19,
      "outputs": []
    },
    {
      "cell_type": "code",
      "metadata": {
        "id": "70CX2QC4Zv4f"
      },
      "source": [
        "f = open(adresDosyasi, 'a')\n",
        "f.write(\"\\nOrçun Madran: orcunmadran@gmail.com\")\n",
        "f.close()"
      ],
      "execution_count": 23,
      "outputs": []
    },
    {
      "cell_type": "code",
      "metadata": {
        "id": "0ntG_J9HZ7mV"
      },
      "source": [
        "f = open(adresDosyasi, 'a')\n",
        "f.write(\"\\nAhmet Bildirici: ahmetbildirici46@gmail.com\")\n",
        "f.close()"
      ],
      "execution_count": 24,
      "outputs": []
    },
    {
      "cell_type": "code",
      "metadata": {
        "colab": {
          "base_uri": "https://localhost:8080/"
        },
        "id": "-jX4guEmYHl-",
        "outputId": "8562bf6f-f070-43c5-9e6a-2ab1c9bb177d"
      },
      "source": [
        "f = open(adresDosyasi, \"r\") \n",
        " \n",
        "for line in f.readlines():\n",
        "    print(line)\n",
        " \n",
        "f.close()"
      ],
      "execution_count": 26,
      "outputs": [
        {
          "output_type": "stream",
          "text": [
            "AD SOYAD: E-POSTA\n",
            "\n",
            "Orçun Madran: orcunmadran@gmail.com\n",
            "\n",
            "Ahmet Bildirici: ahmetbildirici46@gmail.com\n"
          ],
          "name": "stdout"
        }
      ]
    }
  ]
}