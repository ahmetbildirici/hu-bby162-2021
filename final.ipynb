{
  "nbformat": 4,
  "nbformat_minor": 0,
  "metadata": {
    "colab": {
      "name": "final.ipynb",
      "provenance": [],
      "collapsed_sections": [],
      "mount_file_id": "1eaYMDHhZVw_RHGpHB7QD68r98al8CBBo",
      "authorship_tag": "ABX9TyNoTnaufCW2q6/EP/nx3HKG",
      "include_colab_link": true
    },
    "kernelspec": {
      "name": "python3",
      "display_name": "Python 3"
    },
    "language_info": {
      "name": "python"
    }
  },
  "cells": [
    {
      "cell_type": "markdown",
      "metadata": {
        "id": "view-in-github",
        "colab_type": "text"
      },
      "source": [
        "<a href=\"https://colab.research.google.com/github/ahmetbildirici/hu-bby162-2021/blob/main/final.ipynb\" target=\"_parent\"><img src=\"https://colab.research.google.com/assets/colab-badge.svg\" alt=\"Open In Colab\"/></a>"
      ]
    },
    {
      "cell_type": "code",
      "metadata": {
        "id": "6L3lpql4v7-M"
      },
      "source": [
        "kayitDosya = \"/content/drive/MyDrive/final.txt\"\n",
        "\n",
        "def eserListele():\n",
        "  finalAcilan = open(kayitDosya, \"r\")\n",
        "  for line in finalAcilan.readlines():\n",
        "    print(line)\n",
        "  finalAcilan.close()\n",
        "  anaMenu()\n",
        "\n",
        "def eserKaydet():\n",
        "  eserAdi = input(\"Eser adı giriniz: \")\n",
        "  yazarAdi = input(\"Yazar adı giriniz: \")\n",
        "  yayinevi = input(\"Yayın evi giriniz: \")\n",
        "  basimTarihi = input(\"Basım tarihi giriniz: \")\n",
        "  ISBN = input(\"ISBN giriniz: \")\n",
        "  f = open(kayitDosya, 'a')\n",
        "  f.write(eserAdi + \",\")\n",
        "  f.write(yazarAdi + \",\")\n",
        "  f.write(yayinevi + \",\")\n",
        "  f.write(basimTarihi + \",\")\n",
        "  f.write(ISBN + \"\\n\")\n",
        "  f.close()\n",
        "  print(\"\\033[91mTebrikler! Kaydınız başarı ile eklendi.\")\n",
        "  anaMenu()\n",
        "\n",
        "def cikis():\n",
        "  print(\"\\t\\t...\\n>>>Çıkış yapmak istiyor musunuz?>>>\\n  \\t1) Evet\\n  \\t2) Hayır\\n\\t\\t...\")\n",
        "  cikisIslem = input(\"İşlem seçiniz: \")\n",
        "  if cikisIslem == \"2\":\n",
        "    print(\"\\033[91mAna menüye yönlendiriliyorsunuz...\")\n",
        "    anaMenu()\n",
        "  elif cikisIslem == \"1\":\n",
        "   print(\"\\033[91mÇıkış yaptınız. Teşekkürler.\")\n",
        "  else:\n",
        "    print(\"Hatalı işlem girdiniz. Sadece -1- ve -2- seçimini yapabilirsiniz.\")\n",
        "    cikis()\n",
        "\n",
        "def kayitlariSil():\n",
        "  open(kayitDosya, 'w').close()\n",
        "  print(\"\\033[91mKayıtlar başarıyla temizlendi, ana menüye yönlendiriliyorsunuz...\")\n",
        "  anaMenu()\n",
        "\n",
        "def dosyaBoyutu():\n",
        "  import os\n",
        "  b = os.path.getsize(kayitDosya)\n",
        "  print(b)\n",
        "  print(\"BYTE\")\n",
        "  anaMenu()\n",
        "\n",
        "def dosyaYolu():\n",
        "  with open(kayitDosya) as dosya:\n",
        "        print(dosya.read())\n",
        "  print(\"Dosya Yolu: \",dosya.name)\n",
        "  anaMenu()\n",
        "\n",
        "def anaMenu():\n",
        "  print(\"\\t\\t...\\n>>>Yapacağınız işlemi seçiniz;>>>\\n   \\t1) Eser Kaydet\\n   \\t2) Eser Listele\\n   \\t3) Kayıtları Sil(DİKKAT!)\\n   \\t4) Kayıt Dosyası Yolunu Öğren\\n   \\t5) Kayıt Dosyası Boyutunu Öğren\\n   \\t6) Çıkış Yap\\n\\t\\t...\")\n",
        "  islem = input(\"İşlem seçiniz: \")\n",
        "  if islem == \"1\":\n",
        "    eserKaydet()\n",
        "  elif islem == \"2\":\n",
        "    eserListele()\n",
        "  elif islem == \"3\":\n",
        "    kayitlariSil()\n",
        "  elif islem == \"4\":\n",
        "    dosyaYolu()\n",
        "  elif islem == \"5\":\n",
        "    dosyaBoyutu()\n",
        "  elif islem == \"6\":\n",
        "    cikis()\n",
        "  else:\n",
        "    print(\"\\033[91mHatalı seçim yaptınız, tekrar yönlendiriliyorsunuz...\")\n",
        "    anaMenu()\n",
        "\n",
        "print(\"\\033[1m\\t---HOŞ GELDİNİZ---\")\n",
        "anaMenu()"
      ],
      "execution_count": null,
      "outputs": []
    }
  ]
}